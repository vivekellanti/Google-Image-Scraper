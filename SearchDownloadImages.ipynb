{
  "nbformat": 4,
  "nbformat_minor": 0,
  "metadata": {
    "colab": {
      "provenance": [],
      "gpuType": "T4",
      "authorship_tag": "ABX9TyMlsKTj652xi4yizMJMPapa",
      "include_colab_link": true
    },
    "kernelspec": {
      "name": "python3",
      "display_name": "Python 3"
    },
    "language_info": {
      "name": "python"
    },
    "accelerator": "GPU"
  },
  "cells": [
    {
      "cell_type": "markdown",
      "metadata": {
        "id": "view-in-github",
        "colab_type": "text"
      },
      "source": [
        "<a href=\"https://colab.research.google.com/github/vivekellanti/Google-Image-Scraper/blob/main/SearchDownloadImages.ipynb\" target=\"_parent\"><img src=\"https://colab.research.google.com/assets/colab-badge.svg\" alt=\"Open In Colab\"/></a>"
      ]
    },
    {
      "cell_type": "code",
      "execution_count": 7,
      "metadata": {
        "colab": {
          "base_uri": "https://localhost:8080/"
        },
        "id": "5yPwkFjER1HP",
        "outputId": "dce5d9f8-cd9d-4326-beea-824d82b6769e"
      },
      "outputs": [
        {
          "output_type": "stream",
          "name": "stdout",
          "text": [
            "Drive already mounted at /content/drive; to attempt to forcibly remount, call drive.mount(\"/content/drive\", force_remount=True).\n"
          ]
        }
      ],
      "source": [
        "import requests\n",
        "import os\n",
        "\n",
        "from google.colab import drive\n",
        "drive.mount('/content/drive')\n",
        "\n",
        "#Constants\n",
        ##"CUSTOM_SEARCH_API_KEY = ''\n", (Insert your own)
        ##"CUSTOM_SEARCH_ENGINE_ID = ''\n", (Insert your own)
        "IMAGE_DIR = \"/content/drive/My Drive/F1_images\""
      ]
    },
    {
      "cell_type": "code",
      "source": [
        "def search_images(query, num_results=100):\n",
        "    search_url = f\"https://www.googleapis.com/customsearch/v1\"\n",
        "    params = {\n",
        "        'q': query,\n",
        "        'cx': CUSTOM_SEARCH_ENGINE_ID,\n",
        "        'searchType': 'image',\n",
        "        'num': 10,\n",
        "        'key': CUSTOM_SEARCH_API_KEY,\n",
        "        'start': 1\n",
        "    }\n",
        "\n",
        "    all_images = []\n",
        "    # Pagination handling - Google allows for 90 paginations max\n",
        "    while len(all_images) < num_results and params['start'] <= 90:\n",
        "        response = requests.get(search_url, params=params)\n",
        "        results = response.json()\n",
        "        items = results.get('items', [])\n",
        "        all_images.extend(items)\n",
        "        params['start'] += 10\n",
        "\n",
        "    return all_images[:num_results]\n"
      ],
      "metadata": {
        "id": "USrJhMiFthqv"
      },
      "execution_count": 8,
      "outputs": []
    },
    {
      "cell_type": "code",
      "source": [
        "def download_image(url, dest_path):\n",
        "    response = requests.get(url)\n",
        "    with open(dest_path, 'wb') as file:\n",
        "        file.write(response.content)"
      ],
      "metadata": {
        "id": "OMbi4pbcWTOz"
      },
      "execution_count": 9,
      "outputs": []
    },
    {
      "cell_type": "code",
      "source": [
        "def main():\n",
        "    os.makedirs(IMAGE_DIR, exist_ok=True)\n",
        "\n",
        "    drivers = [\"Lewis Hamilton\", \"George Russell\", \"Max Verstappen\", \"Sergio Perez\", \"Charles Leclerc\", \"Carlos Sainz\", \"Lando Norris\", \"Oscar Piastri\", \"Fernando Alonso\", \"Lance Stroll\", \"Pierre Gasly\", \"Esteban Ocon\", \"Kevin Magnussen\", \"Nico Hulkenberg\", \"Zhou Guanyu\", \"Valtteri Bottas\", \"Alexander Albon\", \"Logan Sargeant\", \"Yuki Tsunoda\", \"Daniel Ricciardo\"]\n",
        "    teams = [\"Mercedes\", \"Red Bull Racing\", \"Ferrari\", \"McLaren\", \"Aston Martin\", \"Alpine\", \"HAAS\", \"Alfa Romeo\", \"Williams\", \"VisaCashapp RB\"]\n",
        "    year = 2024\n",
        "\n",
        "    for driver, team in zip(drivers, teams):\n",
        "        query = f\"{year} {driver} {team} F1 car\"\n",
        "        images = search_images(query, num_results=100)\n",
        "\n",
        "        for idx, image_info in enumerate(images):\n",
        "            image_url = image_info['link']\n",
        "            image_path = os.path.join(IMAGE_DIR, f\"{driver.replace(' ', '_')}_{team.replace(' ', '_')}_{idx}.jpg\")\n",
        "            download_image(image_url, image_path)\n",
        "\n",
        "if __name__ == \"__main__\":\n",
        "    main()"
      ],
      "metadata": {
        "id": "jixY5i4jX7fx"
      },
      "execution_count": null,
      "outputs": []
    }
  ]
}
